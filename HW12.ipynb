{
 "cells": [
  {
   "cell_type": "code",
   "execution_count": 1,
   "id": "56d6737a",
   "metadata": {
    "ExecuteTime": {
     "end_time": "2023-07-19T09:02:30.535115400Z",
     "start_time": "2023-07-19T09:02:23.850476400Z"
    }
   },
   "outputs": [],
   "source": [
    "import nltk\n",
    "import spacy\n",
    "from nltk import PorterStemmer\n",
    "from spacy.lang.en.stop_words import STOP_WORDS\n",
    "from nltk.tokenize import word_tokenize, sent_tokenize\n",
    "from nltk.corpus import stopwords\n",
    "from string import punctuation\n",
    "from heapq import nlargest\n",
    "import re"
   ]
  },
  {
   "cell_type": "code",
   "execution_count": 2,
   "id": "cb01b008",
   "metadata": {
    "ExecuteTime": {
     "end_time": "2023-07-19T09:02:35.456508900Z",
     "start_time": "2023-07-19T09:02:35.446496100Z"
    }
   },
   "outputs": [],
   "source": [
    "text = '''The Orbiter Discovery, OV-103, is considered eligible for listing in the National Register of Historic Places (NRHP) in the context of the U.S. Space Shuttle Program (1969-2011) under Criterion A in the areas of Space Exploration and Transportation and under Criterion C in the area of Engineering. Because it has achieved significance within the past fifty years, Criteria Consideration G applies. Under Criterion A, Discovery is significant as the oldest of the three extant orbiter vehicles constructed for the Space Shuttle Program (SSP), the longest running American space program to date; she was the third of five orbiters built by NASA. Unlike the Mercury, Gemini, and Apollo programs, the SSP’s emphasis was on cost effectiveness and reusability, and eventually the construction of a space station. Including her maiden voyage (launched August 30, 1984), Discovery flew to space thirty-nine times, more than any of the other four orbiters; she was also the first orbiter to fly twenty missions. She had the honor of being chosen as the Return to Flight vehicle after both the Challenger and Columbia accidents. Discovery was the first shuttle to fly with the redesigned SRBs, a result of the Challenger accident, and the first shuttle to fly with the Phase II and Block I SSME. Discovery also carried the Hubble Space Telescope to orbit and performed two of the five servicing missions to the observatory. She flew the first and last dedicated Department of Defense (DoD) missions, as well as the first unclassified defense-related mission. In addition, Discovery was vital to the construction of the International Space Station (ISS); she flew thirteen of the thirty-seven total missions flown to the station by a U.S. Space Shuttle. She was the first orbiter to dock to the ISS, and the first to perform an exchange of a resident crew. Under Criterion C, Discovery is significant as a feat of engineering. According to Wayne Hale, a flight director from Johnson Space Center, the Space Shuttle orbiter represents a “huge technological leap from expendable rockets and capsules to a reusable, winged, hypersonic, cargo-carrying spacecraft.” Although her base structure followed a conventional aircraft design, she used advanced materials that both minimized her weight for cargo-carrying purposes and featured low thermal expansion ratios, which provided a stable base for her Thermal Protection System (TPS) materials. The Space Shuttle orbiter also featured the first reusable TPS; all previous spaceflight vehicles had a single-use, ablative heat shield. Other notable engineering achievements of the orbiter included the first reusable orbital propulsion system, and the first two-fault-tolerant Integrated Avionics System. As Hale stated, the Space Shuttle remains “the largest, fastest, winged hypersonic aircraft in history,” having regularly flown at twenty-five times the speed of sound.'''"
   ]
  },
  {
   "cell_type": "code",
   "execution_count": 3,
   "id": "3e9bb559",
   "metadata": {
    "ExecuteTime": {
     "end_time": "2023-07-19T09:02:38.288884300Z",
     "start_time": "2023-07-19T09:02:38.254580200Z"
    }
   },
   "outputs": [
    {
     "name": "stdout",
     "output_type": "stream",
     "text": [
      "2906\n",
      "['The Orbiter Discovery OV 103 is considered eligible for listing in the National Register of Historic Places NRHP in the context of the U S Space Shuttle Program 1969 2011 under Criterion A in the areas of Space Exploration and Transportation and under Criterion C in the area of Engineering Because it has achieved significance within the past fifty years Criteria Consideration G applies Under Criterion A Discovery is significant as the oldest of the three extant orbiter vehicles constructed for the Space Shuttle Program SSP the longest running American space program to date she was the third of five orbiters built by NASA Unlike the Mercury Gemini and Apollo programs the SSP s emphasis was on cost effectiveness and reusability and eventually the construction of a space station Including her maiden voyage launched August 30 1984 Discovery flew to space thirty nine times more than any of the other four orbiters she was also the first orbiter to fly twenty missions She had the honor of being chosen as the Return to Flight vehicle after both the Challenger and Columbia accidents Discovery was the first shuttle to fly with the redesigned SRBs a result of the Challenger accident and the first shuttle to fly with the Phase II and Block I SSME Discovery also carried the Hubble Space Telescope to orbit and performed two of the five servicing missions to the observatory She flew the first and last dedicated Department of Defense DoD missions as well as the first unclassified defense related mission In addition Discovery was vital to the construction of the International Space Station ISS she flew thirteen of the thirty seven total missions flown to the station by a U S Space Shuttle She was the first orbiter to dock to the ISS and the first to perform an exchange of a resident crew Under Criterion C Discovery is significant as a feat of engineering According to Wayne Hale a flight director from Johnson Space Center the Space Shuttle orbiter represents a huge technological leap from expendable rockets and capsules to a reusable winged hypersonic cargo carrying spacecraft Although her base structure followed a conventional aircraft design she used advanced materials that both minimized her weight for cargo carrying purposes and featured low thermal expansion ratios which provided a stable base for her Thermal Protection System TPS materials The Space Shuttle orbiter also featured the first reusable TPS all previous spaceflight vehicles had a single use ablative heat shield Other notable engineering achievements of the orbiter included the first reusable orbital propulsion system and the first two fault tolerant Integrated Avionics System As Hale stated the Space Shuttle remains the largest fastest winged hypersonic aircraft in history having regularly flown at twenty five times the speed of sound']\n",
      "{'The Orbiter Discovery OV 103 is considered eligible for listing in the National Register of Historic Places NRHP in the context of the U S Space Shuttle Program 1969 2011 under Criterion A in the areas of Space Exploration and Transportation and under Criterion C in the area of Engineering Because it has achieved significance within the past fifty years Criteria Consideration G applies Under Criterion A Discovery is significant as the oldest of the three extant orbiter vehicles constructed for the Space Shuttle Program SSP the longest running American space program to date she was the third of five orbiters built by NASA Unlike the Mercury Gemini and Apollo programs the SSP s emphasis was on cost effectiveness and reusability and eventually the construction of a space station Including her maiden voyage launched August 30 1984 Discovery flew to space thirty nine times more than any of the other four orbiters she was also the first orbiter to fly twenty missions She had the honor of being chosen as the Return to Flight vehicle after both the Challenger and Columbia accidents Discovery was the first shuttle to fly with the redesigned SRBs a result of the Challenger accident and the first shuttle to fly with the Phase II and Block I SSME Discovery also carried the Hubble Space Telescope to orbit and performed two of the five servicing missions to the observatory She flew the first and last dedicated Department of Defense DoD missions as well as the first unclassified defense related mission In addition Discovery was vital to the construction of the International Space Station ISS she flew thirteen of the thirty seven total missions flown to the station by a U S Space Shuttle She was the first orbiter to dock to the ISS and the first to perform an exchange of a resident crew Under Criterion C Discovery is significant as a feat of engineering According to Wayne Hale a flight director from Johnson Space Center the Space Shuttle orbiter represents a huge technological leap from expendable rockets and capsules to a reusable winged hypersonic cargo carrying spacecraft Although her base structure followed a conventional aircraft design she used advanced materials that both minimized her weight for cargo carrying purposes and featured low thermal expansion ratios which provided a stable base for her Thermal Protection System TPS materials The Space Shuttle orbiter also featured the first reusable TPS all previous spaceflight vehicles had a single use ablative heat shield Other notable engineering achievements of the orbiter included the first reusable orbital propulsion system and the first two fault tolerant Integrated Avionics System As Hale stated the Space Shuttle remains the largest fastest winged hypersonic aircraft in history having regularly flown at twenty five times the speed of sound': 263.0}\n",
      "The Orbiter Discovery OV 103 is considered eligible for listing in the National Register of Historic Places NRHP in the context of the U S Space Shuttle Program 1969 2011 under Criterion A in the areas of Space Exploration and Transportation and under Criterion C in the area of Engineering Because it has achieved significance within the past fifty years Criteria Consideration G applies Under Criterion A Discovery is significant as the oldest of the three extant orbiter vehicles constructed for the Space Shuttle Program SSP the longest running American space program to date she was the third of five orbiters built by NASA Unlike the Mercury Gemini and Apollo programs the SSP s emphasis was on cost effectiveness and reusability and eventually the construction of a space station Including her maiden voyage launched August 30 1984 Discovery flew to space thirty nine times more than any of the other four orbiters she was also the first orbiter to fly twenty missions She had the honor of being chosen as the Return to Flight vehicle after both the Challenger and Columbia accidents Discovery was the first shuttle to fly with the redesigned SRBs a result of the Challenger accident and the first shuttle to fly with the Phase II and Block I SSME Discovery also carried the Hubble Space Telescope to orbit and performed two of the five servicing missions to the observatory She flew the first and last dedicated Department of Defense DoD missions as well as the first unclassified defense related mission In addition Discovery was vital to the construction of the International Space Station ISS she flew thirteen of the thirty seven total missions flown to the station by a U S Space Shuttle She was the first orbiter to dock to the ISS and the first to perform an exchange of a resident crew Under Criterion C Discovery is significant as a feat of engineering According to Wayne Hale a flight director from Johnson Space Center the Space Shuttle orbiter represents a huge technological leap from expendable rockets and capsules to a reusable winged hypersonic cargo carrying spacecraft Although her base structure followed a conventional aircraft design she used advanced materials that both minimized her weight for cargo carrying purposes and featured low thermal expansion ratios which provided a stable base for her Thermal Protection System TPS materials The Space Shuttle orbiter also featured the first reusable TPS all previous spaceflight vehicles had a single use ablative heat shield Other notable engineering achievements of the orbiter included the first reusable orbital propulsion system and the first two fault tolerant Integrated Avionics System As Hale stated the Space Shuttle remains the largest fastest winged hypersonic aircraft in history having regularly flown at twenty five times the speed of sound\n",
      "Original Text:\n",
      " The Orbiter Discovery, OV-103, is considered eligible for listing in the National Register of Historic Places (NRHP) in the context of the U.S. Space Shuttle Program (1969-2011) under Criterion A in the areas of Space Exploration and Transportation and under Criterion C in the area of Engineering. Because it has achieved significance within the past fifty years, Criteria Consideration G applies. Under Criterion A, Discovery is significant as the oldest of the three extant orbiter vehicles constructed for the Space Shuttle Program (SSP), the longest running American space program to date; she was the third of five orbiters built by NASA. Unlike the Mercury, Gemini, and Apollo programs, the SSP’s emphasis was on cost effectiveness and reusability, and eventually the construction of a space station. Including her maiden voyage (launched August 30, 1984), Discovery flew to space thirty-nine times, more than any of the other four orbiters; she was also the first orbiter to fly twenty missions. She had the honor of being chosen as the Return to Flight vehicle after both the Challenger and Columbia accidents. Discovery was the first shuttle to fly with the redesigned SRBs, a result of the Challenger accident, and the first shuttle to fly with the Phase II and Block I SSME. Discovery also carried the Hubble Space Telescope to orbit and performed two of the five servicing missions to the observatory. She flew the first and last dedicated Department of Defense (DoD) missions, as well as the first unclassified defense-related mission. In addition, Discovery was vital to the construction of the International Space Station (ISS); she flew thirteen of the thirty-seven total missions flown to the station by a U.S. Space Shuttle. She was the first orbiter to dock to the ISS, and the first to perform an exchange of a resident crew. Under Criterion C, Discovery is significant as a feat of engineering. According to Wayne Hale, a flight director from Johnson Space Center, the Space Shuttle orbiter represents a “huge technological leap from expendable rockets and capsules to a reusable, winged, hypersonic, cargo-carrying spacecraft.” Although her base structure followed a conventional aircraft design, she used advanced materials that both minimized her weight for cargo-carrying purposes and featured low thermal expansion ratios, which provided a stable base for her Thermal Protection System (TPS) materials. The Space Shuttle orbiter also featured the first reusable TPS; all previous spaceflight vehicles had a single-use, ablative heat shield. Other notable engineering achievements of the orbiter included the first reusable orbital propulsion system, and the first two-fault-tolerant Integrated Avionics System. As Hale stated, the Space Shuttle remains “the largest, fastest, winged hypersonic aircraft in history,” having regularly flown at twenty-five times the speed of sound.\n",
      "\n",
      "Summary:\n",
      " The Orbiter Discovery OV 103 is considered eligible for listing in the National Register of Historic Places NRHP in the context of the U S Space Shuttle Program 1969 2011 under Criterion A in the areas of Space Exploration and Transportation and under Criterion C in the area of Engineering Because it has achieved significance within the past fifty years Criteria Consideration G applies Under Criterion A Discovery is significant as the oldest of the three extant orbiter vehicles constructed for the Space Shuttle Program SSP the longest running American space program to date she was the third of five orbiters built by NASA Unlike the Mercury Gemini and Apollo programs the SSP s emphasis was on cost effectiveness and reusability and eventually the construction of a space station Including her maiden voyage launched August 30 1984 Discovery flew to space thirty nine times more than any of the other four orbiters she was also the first orbiter to fly twenty missions She had the honor of being chosen as the Return to Flight vehicle after both the Challenger and Columbia accidents Discovery was the first shuttle to fly with the redesigned SRBs a result of the Challenger accident and the first shuttle to fly with the Phase II and Block I SSME Discovery also carried the Hubble Space Telescope to orbit and performed two of the five servicing missions to the observatory She flew the first and last dedicated Department of Defense DoD missions as well as the first unclassified defense related mission In addition Discovery was vital to the construction of the International Space Station ISS she flew thirteen of the thirty seven total missions flown to the station by a U S Space Shuttle She was the first orbiter to dock to the ISS and the first to perform an exchange of a resident crew Under Criterion C Discovery is significant as a feat of engineering According to Wayne Hale a flight director from Johnson Space Center the Space Shuttle orbiter represents a huge technological leap from expendable rockets and capsules to a reusable winged hypersonic cargo carrying spacecraft Although her base structure followed a conventional aircraft design she used advanced materials that both minimized her weight for cargo carrying purposes and featured low thermal expansion ratios which provided a stable base for her Thermal Protection System TPS materials The Space Shuttle orbiter also featured the first reusable TPS all previous spaceflight vehicles had a single use ablative heat shield Other notable engineering achievements of the orbiter included the first reusable orbital propulsion system and the first two fault tolerant Integrated Avionics System As Hale stated the Space Shuttle remains the largest fastest winged hypersonic aircraft in history having regularly flown at twenty five times the speed of sound\n",
      "\n",
      "Length of Original Text: 2906\n",
      "Length of Summary: 2834\n"
     ]
    }
   ],
   "source": [
    "sentences_1 = sent_tokenize(text)\n",
    "total_documents = len(text)\n",
    "print(total_documents)\n",
    "stop_words = set(stopwords.words('english'))\n",
    "words = word_tokenize(text)\n",
    "words = [word.lower() for word in words if word.isalpha() and word.lower() not in stop_words]\n",
    "# Remove special characters and extra spaces\n",
    "clean_text = re.sub('\\W+', ' ', text)\n",
    "clean_text = re.sub('\\s+', ' ', clean_text)\n",
    "# Convert text into a list of sentences\n",
    "sentences = sent_tokenize(clean_text)\n",
    "print(sentences)\n",
    "# Calculate sentence scores\n",
    "sentence_scores = {}\n",
    "for sentence in sentences:\n",
    "    for word in word_tokenize(sentence.lower()):\n",
    "        if word in words:\n",
    "            if sentence not in sentence_scores:\n",
    "                sentence_scores[sentence] = 0\n",
    "            sentence_scores[sentence] += 1 / len(sentences)\n",
    "print(sentence_scores)\n",
    "summary_sentences = sorted(sentence_scores, key=sentence_scores.get, reverse=True)[:2]\n",
    "summary = ' '.join(summary_sentences)\n",
    "print(summary)\n",
    "# Print the original text\n",
    "print(\"Original Text:\\n\", text)\n",
    "# Print the summary\n",
    "print(\"\\nSummary:\\n\", summary)\n",
    "# Print the length of both\n",
    "print(\"\\nLength of Original Text:\", len(text))\n",
    "print(\"Length of Summary:\", len(summary))"
   ]
  },
  {
   "cell_type": "code",
   "execution_count": 4,
   "id": "06f0dd7f",
   "metadata": {
    "ExecuteTime": {
     "end_time": "2023-07-19T09:02:41.884365300Z",
     "start_time": "2023-07-19T09:02:41.259598900Z"
    }
   },
   "outputs": [
    {
     "name": "stdout",
     "output_type": "stream",
     "text": [
      "The Orbiter Discovery, OV-103, is considered eligible for listing in the National Register of Historic Places (NRHP) in the context of the U.S. Space Shuttle Program (1969-2011) under Criterion A in the areas of Space Exploration and Transportation and under Criterion C in the area of Engineering. Because it has achieved significance within the past fifty years, Criteria Consideration G applies. Under Criterion A, Discovery is significant as the oldest of the three extant orbiter vehicles constructed for the Space Shuttle Program (SSP), the longest running American space program to date; she was the third of five orbiters built by NASA. Unlike the Mercury, Gemini, and Apollo programs, the SSP’s emphasis was on cost effectiveness and reusability, and eventually the construction of a space station. Including her maiden voyage (launched August 30, 1984), Discovery flew to space thirty-nine times, more than any of the other four orbiters; she was also the first orbiter to fly twenty missions. She had the honor of being chosen as the Return to Flight vehicle after both the Challenger and Columbia accidents. Discovery was the first shuttle to fly with the redesigned SRBs, a result of the Challenger accident, and the first shuttle to fly with the Phase II and Block I SSME. Discovery also carried the Hubble Space Telescope to orbit and performed two of the five servicing missions to the observatory. She flew the first and last dedicated Department of Defense (DoD) missions, as well as the first unclassified defense-related mission. In addition, Discovery was vital to the construction of the International Space Station (ISS); she flew thirteen of the thirty-seven total missions flown to the station by a U.S. Space Shuttle. She was the first orbiter to dock to the ISS, and the first to perform an exchange of a resident crew. Under Criterion C, Discovery is significant as a feat of engineering. According to Wayne Hale, a flight director from Johnson Space Center, the Space Shuttle orbiter represents a “huge technological leap from expendable rockets and capsules to a reusable, winged, hypersonic, cargo-carrying spacecraft.” Although her base structure followed a conventional aircraft design, she used advanced materials that both minimized her weight for cargo-carrying purposes and featured low thermal expansion ratios, which provided a stable base for her Thermal Protection System (TPS) materials. The Space Shuttle orbiter also featured the first reusable TPS; all previous spaceflight vehicles had a single-use, ablative heat shield. Other notable engineering achievements of the orbiter included the first reusable orbital propulsion system, and the first two-fault-tolerant Integrated Avionics System. As Hale stated, the Space Shuttle remains “the largest, fastest, winged hypersonic aircraft in history,” having regularly flown at twenty-five times the speed of sound.\n",
      "{'Orbiter': 1, 'Discovery': 1, 'OV-103': 1, 'considered': 1, 'eligible': 1, 'listing': 1, 'National': 1, 'Register': 1, 'Historic': 1, 'Places': 1, 'NRHP': 1, 'context': 1, 'U.S.': 1, 'Space': 1, 'Shuttle': 1, 'Program': 1, '1969': 1, '2011': 1, 'Criterion': 1, 'areas': 1, 'Exploration': 1, 'Transportation': 1, 'C': 1, 'area': 1, 'Engineering': 1, 'achieved': 1, 'significance': 1, 'past': 1, 'years': 1, 'Criteria': 1, 'Consideration': 1, 'G': 1, 'applies': 1, 'significant': 1, 'oldest': 1, 'extant': 1, 'orbiter': 1, 'vehicles': 1, 'constructed': 1, 'SSP': 1, 'longest': 1, 'running': 1, 'American': 1, 'space': 1, 'program': 1, 'date': 1, 'orbiters': 1, 'built': 1, 'NASA': 1, 'Unlike': 1, 'Mercury': 1, 'Gemini': 1, 'Apollo': 1, 'programs': 1, 'emphasis': 1, 'cost': 1, 'effectiveness': 1, 'reusability': 1, 'eventually': 1, 'construction': 1, 'station': 1, 'Including': 1, 'maiden': 1, 'voyage': 1, 'launched': 1, 'August': 1, '30': 1, '1984': 1, 'flew': 1, 'thirty': 1, 'times': 1, 'fly': 1, 'missions': 1, 'honor': 1, 'chosen': 1, 'Return': 1, 'Flight': 1, 'vehicle': 1, 'Challenger': 1, 'Columbia': 1, 'accidents': 1, 'shuttle': 1, 'redesigned': 1, 'SRBs': 1, 'result': 1, 'accident': 1, 'Phase': 1, 'II': 1, 'Block': 1, 'SSME': 1, 'carried': 1, 'Hubble': 1, 'Telescope': 1, 'orbit': 1, 'performed': 1, 'servicing': 1, 'observatory': 1, 'dedicated': 1, 'Department': 1, 'Defense': 1, 'DoD': 1, 'unclassified': 1, 'defense': 1, 'related': 1, 'mission': 1, 'addition': 1, 'vital': 1, 'International': 1, 'ISS': 1, 'thirteen': 1, 'seven': 1, 'total': 1, 'flown': 1, 'dock': 1, 'perform': 1, 'exchange': 1, 'resident': 1, 'crew': 1, 'feat': 1, 'engineering': 1, 'According': 1, 'Wayne': 1, 'Hale': 1, 'flight': 1, 'director': 1, 'Johnson': 1, 'Center': 1, 'represents': 1, '“': 1, 'huge': 1, 'technological': 1, 'leap': 1, 'expendable': 1, 'rockets': 1, 'capsules': 1, 'reusable': 1, 'winged': 1, 'hypersonic': 1, 'cargo': 1, 'carrying': 1, 'spacecraft': 1, '”': 1, 'base': 1, 'structure': 1, 'followed': 1, 'conventional': 1, 'aircraft': 1, 'design': 1, 'advanced': 1, 'materials': 1, 'minimized': 1, 'weight': 1, 'purposes': 1, 'featured': 1, 'low': 1, 'thermal': 1, 'expansion': 1, 'ratios': 1, 'provided': 1, 'stable': 1, 'Protection': 1, 'System': 1, 'TPS': 1, 'previous': 1, 'spaceflight': 1, 'single': 1, 'use': 1, 'ablative': 1, 'heat': 1, 'shield': 1, 'notable': 1, 'achievements': 1, 'included': 1, 'orbital': 1, 'propulsion': 1, 'system': 1, 'fault': 1, 'tolerant': 1, 'Integrated': 1, 'Avionics': 1, 'stated': 1, 'remains': 1, 'largest': 1, 'fastest': 1, 'history': 1, 'having': 1, 'regularly': 1, 'speed': 1, 'sound': 1}\n",
      "max count : 1\n",
      "{'Orbiter': 1.0, 'Discovery': 1.0, 'OV-103': 1.0, 'considered': 1.0, 'eligible': 1.0, 'listing': 1.0, 'National': 1.0, 'Register': 1.0, 'Historic': 1.0, 'Places': 1.0, 'NRHP': 1.0, 'context': 1.0, 'U.S.': 1.0, 'Space': 1.0, 'Shuttle': 1.0, 'Program': 1.0, '1969': 1.0, '2011': 1.0, 'Criterion': 1.0, 'areas': 1.0, 'Exploration': 1.0, 'Transportation': 1.0, 'C': 1.0, 'area': 1.0, 'Engineering': 1.0, 'achieved': 1.0, 'significance': 1.0, 'past': 1.0, 'years': 1.0, 'Criteria': 1.0, 'Consideration': 1.0, 'G': 1.0, 'applies': 1.0, 'significant': 1.0, 'oldest': 1.0, 'extant': 1.0, 'orbiter': 1.0, 'vehicles': 1.0, 'constructed': 1.0, 'SSP': 1.0, 'longest': 1.0, 'running': 1.0, 'American': 1.0, 'space': 1.0, 'program': 1.0, 'date': 1.0, 'orbiters': 1.0, 'built': 1.0, 'NASA': 1.0, 'Unlike': 1.0, 'Mercury': 1.0, 'Gemini': 1.0, 'Apollo': 1.0, 'programs': 1.0, 'emphasis': 1.0, 'cost': 1.0, 'effectiveness': 1.0, 'reusability': 1.0, 'eventually': 1.0, 'construction': 1.0, 'station': 1.0, 'Including': 1.0, 'maiden': 1.0, 'voyage': 1.0, 'launched': 1.0, 'August': 1.0, '30': 1.0, '1984': 1.0, 'flew': 1.0, 'thirty': 1.0, 'times': 1.0, 'fly': 1.0, 'missions': 1.0, 'honor': 1.0, 'chosen': 1.0, 'Return': 1.0, 'Flight': 1.0, 'vehicle': 1.0, 'Challenger': 1.0, 'Columbia': 1.0, 'accidents': 1.0, 'shuttle': 1.0, 'redesigned': 1.0, 'SRBs': 1.0, 'result': 1.0, 'accident': 1.0, 'Phase': 1.0, 'II': 1.0, 'Block': 1.0, 'SSME': 1.0, 'carried': 1.0, 'Hubble': 1.0, 'Telescope': 1.0, 'orbit': 1.0, 'performed': 1.0, 'servicing': 1.0, 'observatory': 1.0, 'dedicated': 1.0, 'Department': 1.0, 'Defense': 1.0, 'DoD': 1.0, 'unclassified': 1.0, 'defense': 1.0, 'related': 1.0, 'mission': 1.0, 'addition': 1.0, 'vital': 1.0, 'International': 1.0, 'ISS': 1.0, 'thirteen': 1.0, 'seven': 1.0, 'total': 1.0, 'flown': 1.0, 'dock': 1.0, 'perform': 1.0, 'exchange': 1.0, 'resident': 1.0, 'crew': 1.0, 'feat': 1.0, 'engineering': 1.0, 'According': 1.0, 'Wayne': 1.0, 'Hale': 1.0, 'flight': 1.0, 'director': 1.0, 'Johnson': 1.0, 'Center': 1.0, 'represents': 1.0, '“': 1.0, 'huge': 1.0, 'technological': 1.0, 'leap': 1.0, 'expendable': 1.0, 'rockets': 1.0, 'capsules': 1.0, 'reusable': 1.0, 'winged': 1.0, 'hypersonic': 1.0, 'cargo': 1.0, 'carrying': 1.0, 'spacecraft': 1.0, '”': 1.0, 'base': 1.0, 'structure': 1.0, 'followed': 1.0, 'conventional': 1.0, 'aircraft': 1.0, 'design': 1.0, 'advanced': 1.0, 'materials': 1.0, 'minimized': 1.0, 'weight': 1.0, 'purposes': 1.0, 'featured': 1.0, 'low': 1.0, 'thermal': 1.0, 'expansion': 1.0, 'ratios': 1.0, 'provided': 1.0, 'stable': 1.0, 'Protection': 1.0, 'System': 1.0, 'TPS': 1.0, 'previous': 1.0, 'spaceflight': 1.0, 'single': 1.0, 'use': 1.0, 'ablative': 1.0, 'heat': 1.0, 'shield': 1.0, 'notable': 1.0, 'achievements': 1.0, 'included': 1.0, 'orbital': 1.0, 'propulsion': 1.0, 'system': 1.0, 'fault': 1.0, 'tolerant': 1.0, 'Integrated': 1.0, 'Avionics': 1.0, 'stated': 1.0, 'remains': 1.0, 'largest': 1.0, 'fastest': 1.0, 'history': 1.0, 'having': 1.0, 'regularly': 1.0, 'speed': 1.0, 'sound': 1.0}\n",
      "[The Orbiter Discovery, OV-103, is considered eligible for listing in the National Register of Historic Places (NRHP) in the context of the U.S. Space Shuttle Program (1969-2011) under Criterion A in the areas of Space Exploration and Transportation and under Criterion C in the area of Engineering., Because it has achieved significance within the past fifty years, Criteria Consideration G applies., Under Criterion A, Discovery is significant as the oldest of the three extant orbiter vehicles constructed for the Space Shuttle Program (SSP), the longest running American space program to date; she was the third of five orbiters built by NASA., Unlike the Mercury, Gemini, and Apollo programs, the SSP’s emphasis was on cost effectiveness and reusability, and eventually the construction of a space station., Including her maiden voyage (launched August 30, 1984), Discovery flew to space thirty-nine times, more than any of the other four orbiters; she was also the first orbiter to fly twenty missions., She had the honor of being chosen as the Return to Flight vehicle after both the Challenger and Columbia accidents., Discovery was the first shuttle to fly with the redesigned SRBs, a result of the Challenger accident, and the first shuttle to fly with the Phase II and Block I SSME., Discovery also carried the Hubble Space Telescope to orbit and performed two of the five servicing missions to the observatory., She flew the first and last dedicated Department of Defense (DoD) missions, as well as the first unclassified defense-related mission., In addition, Discovery was vital to the construction of the International Space Station (ISS); she flew thirteen of the thirty-seven total missions flown to the station by a U.S. Space Shuttle., She was the first orbiter to dock to the ISS, and the first to perform an exchange of a resident crew., Under Criterion C, Discovery is significant as a feat of engineering., According to Wayne Hale, a flight director from Johnson Space Center, the Space Shuttle orbiter represents a “huge technological leap from expendable rockets and capsules to a reusable, winged, hypersonic, cargo-carrying spacecraft.”, Although her base structure followed a conventional aircraft design, she used advanced materials that both minimized her weight for cargo-carrying purposes and featured low thermal expansion ratios, which provided a stable base for her Thermal Protection System (TPS) materials., The Space Shuttle orbiter also featured the first reusable TPS; all previous spaceflight vehicles had a single-use, ablative heat shield., Other notable engineering achievements of the orbiter included the first reusable orbital propulsion system, and the first two-fault-tolerant Integrated Avionics System., As Hale stated, the Space Shuttle remains “the largest, fastest, winged hypersonic aircraft in history,” having regularly flown at twenty-five times the speed of sound.]\n",
      "{The Orbiter Discovery, OV-103, is considered eligible for listing in the National Register of Historic Places (NRHP) in the context of the U.S. Space Shuttle Program (1969-2011) under Criterion A in the areas of Space Exploration and Transportation and under Criterion C in the area of Engineering.: 14.0, Because it has achieved significance within the past fifty years, Criteria Consideration G applies.: 5.0, Under Criterion A, Discovery is significant as the oldest of the three extant orbiter vehicles constructed for the Space Shuttle Program (SSP), the longest running American space program to date; she was the third of five orbiters built by NASA.: 16.0, Unlike the Mercury, Gemini, and Apollo programs, the SSP’s emphasis was on cost effectiveness and reusability, and eventually the construction of a space station.: 9.0, Including her maiden voyage (launched August 30, 1984), Discovery flew to space thirty-nine times, more than any of the other four orbiters; she was also the first orbiter to fly twenty missions.: 13.0, She had the honor of being chosen as the Return to Flight vehicle after both the Challenger and Columbia accidents.: 5.0, Discovery was the first shuttle to fly with the redesigned SRBs, a result of the Challenger accident, and the first shuttle to fly with the Phase II and Block I SSME.: 7.0, Discovery also carried the Hubble Space Telescope to orbit and performed two of the five servicing missions to the observatory.: 7.0, She flew the first and last dedicated Department of Defense (DoD) missions, as well as the first unclassified defense-related mission.: 8.0, In addition, Discovery was vital to the construction of the International Space Station (ISS); she flew thirteen of the thirty-seven total missions flown to the station by a U.S. Space Shuttle.: 15.0, She was the first orbiter to dock to the ISS, and the first to perform an exchange of a resident crew.: 6.0, Under Criterion C, Discovery is significant as a feat of engineering.: 3.0, According to Wayne Hale, a flight director from Johnson Space Center, the Space Shuttle orbiter represents a “huge technological leap from expendable rockets and capsules to a reusable, winged, hypersonic, cargo-carrying spacecraft.”: 21.0, Although her base structure followed a conventional aircraft design, she used advanced materials that both minimized her weight for cargo-carrying purposes and featured low thermal expansion ratios, which provided a stable base for her Thermal Protection System (TPS) materials.: 24.0, The Space Shuttle orbiter also featured the first reusable TPS; all previous spaceflight vehicles had a single-use, ablative heat shield.: 13.0, Other notable engineering achievements of the orbiter included the first reusable orbital propulsion system, and the first two-fault-tolerant Integrated Avionics System.: 12.0, As Hale stated, the Space Shuttle remains “the largest, fastest, winged hypersonic aircraft in history,” having regularly flown at twenty-five times the speed of sound.: 18.0}\n",
      "[Although her base structure followed a conventional aircraft design, she used advanced materials that both minimized her weight for cargo-carrying purposes and featured low thermal expansion ratios, which provided a stable base for her Thermal Protection System (TPS) materials., According to Wayne Hale, a flight director from Johnson Space Center, the Space Shuttle orbiter represents a “huge technological leap from expendable rockets and capsules to a reusable, winged, hypersonic, cargo-carrying spacecraft.”, As Hale stated, the Space Shuttle remains “the largest, fastest, winged hypersonic aircraft in history,” having regularly flown at twenty-five times the speed of sound.]\n"
     ]
    }
   ],
   "source": [
    "nlp = spacy.load(\"en_core_web_sm\")\n",
    "doc = nlp(text)\n",
    "print(doc)\n",
    "word_freq = {}\n",
    "stop_words = list(STOP_WORDS)\n",
    "for word in doc:\n",
    "    if word.text.lower() not in stop_words:\n",
    "        if word.text.lower() not in punctuation:\n",
    "            if word.text.lower() not in word_freq.keys():\n",
    "                word_freq[word.text] = 1\n",
    "print(word_freq)\n",
    "print('max count :', max(word_freq.values()))\n",
    "for word in word_freq.keys():\n",
    "    word_freq[word] = word_freq[word] / max(word_freq.values())\n",
    "print(word_freq)\n",
    "sent_tokens = [sent for sent in doc.sents]\n",
    "print(sent_tokens)\n",
    "\n",
    "sent_score = {}\n",
    "for sent in sent_tokens:\n",
    "    for word in sent:\n",
    "        if word.text.lower() in word_freq.keys():\n",
    "            if sent not in sent_score.keys():\n",
    "                sent_score[sent] = word_freq[word.text.lower()]\n",
    "            else:\n",
    "                sent_score[sent] += word_freq[word.text.lower()]\n",
    "print(sent_score)\n",
    "summary_2 = nlargest(n=3, iterable=sent_score, key=sent_score.get)\n",
    "print(summary_2)\n"
   ]
  },
  {
   "cell_type": "code",
   "execution_count": null,
   "outputs": [],
   "source": [],
   "metadata": {
    "collapsed": false
   }
  }
 ],
 "metadata": {
  "kernelspec": {
   "display_name": "Python 3 (ipykernel)",
   "language": "python",
   "name": "python3"
  },
  "language_info": {
   "codemirror_mode": {
    "name": "ipython",
    "version": 3
   },
   "file_extension": ".py",
   "mimetype": "text/x-python",
   "name": "python",
   "nbconvert_exporter": "python",
   "pygments_lexer": "ipython3",
   "version": "3.10.9"
  }
 },
 "nbformat": 4,
 "nbformat_minor": 5
}
